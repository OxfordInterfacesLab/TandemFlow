{
 "cells": [
  {
   "cell_type": "code",
   "execution_count": 1,
   "id": "5aacb8db-eb5e-4dec-acdf-0de326a2de17",
   "metadata": {},
   "outputs": [],
   "source": [
    "include(\"ct_utils.jl\")\n",
    "using .CTUtils\n",
    "using DataFrames\n",
    "using CSV \n",
    "using PyPlot"
   ]
  },
  {
   "cell_type": "code",
   "execution_count": null,
   "id": "27fc676a",
   "metadata": {},
   "outputs": [],
   "source": [
    "df_ct = ct_to_df(\"../simulation_data/chargetransport/si-topcon-ill-sc.csv\")\n",
    "df_scaps = scaps_to_df(\"../simulation_data/scaps/si-topcon-ill-sc.eb\")"
   ]
  },
  {
   "cell_type": "code",
   "execution_count": null,
   "id": "4d479895",
   "metadata": {},
   "outputs": [],
   "source": [
    "compare_densities(df_ct, df_scaps)\n",
    "display(gcf())"
   ]
  },
  {
   "cell_type": "code",
   "execution_count": null,
   "id": "797a8e45",
   "metadata": {},
   "outputs": [],
   "source": [
    "compare_bands(df_ct, df_scaps)\n",
    "display(gcf())"
   ]
  }
 ],
 "metadata": {
  "kernelspec": {
   "display_name": "Julia 1.11.6",
   "language": "julia",
   "name": "julia-1.11"
  },
  "language_info": {
   "file_extension": ".jl",
   "mimetype": "application/julia",
   "name": "julia",
   "version": "1.11.6"
  }
 },
 "nbformat": 4,
 "nbformat_minor": 5
}
