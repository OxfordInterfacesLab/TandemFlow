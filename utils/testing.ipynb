{
 "cells": [
  {
   "cell_type": "code",
   "execution_count": 1,
   "id": "5aacb8db-eb5e-4dec-acdf-0de326a2de17",
   "metadata": {},
   "outputs": [
    {
     "name": "stderr",
     "output_type": "stream",
     "text": [
      "\u001b[91m\u001b[1mERROR: \u001b[22m\u001b[39mLoadError: TypeError: in new, expected TypeError: in new, expected Union{}, got a value of type SparseArrays.SparseMatrixCSC{Float64, Int64}\n",
      "Stacktrace:\n",
      " [1] \u001b[0m\u001b[1mSparspak.SpkSparseSolver.SparseSolver\u001b[22m\u001b[0m\u001b[1m(\u001b[22m\u001b[90mp\u001b[39m::\u001b[0mSparseArrays.SparseMatrixCSC\u001b[90m{Float64, Int64}\u001b[39m, \u001b[90mslvr\u001b[39m::\u001b[0mSparspak.SpkSparseBase._SparseBase\u001b[90m{Int64, Float64}\u001b[39m, \u001b[90mn\u001b[39m::\u001b[0mInt64, \u001b[90mma\u001b[39m::\u001b[0mInt64, \u001b[90mna\u001b[39m::\u001b[0mInt64, \u001b[90mmc\u001b[39m::\u001b[0mInt64, \u001b[90mnc\u001b[39m::\u001b[0mInt64, \u001b[90m_inmatrixdone\u001b[39m::\u001b[0mBool, \u001b[90m_orderdone\u001b[39m::\u001b[0mBool, \u001b[90m_symbolicdone\u001b[39m::\u001b[0mBool, \u001b[90m_factordone\u001b[39m::\u001b[0mBool, \u001b[90m_trisolvedone\u001b[39m::\u001b[0mBool, \u001b[90m_refinedone\u001b[39m::\u001b[0mBool, \u001b[90m_condestdone\u001b[39m::\u001b[0mBool\u001b[0m\u001b[1m)\u001b[22m\n",
      "\u001b[90m   @\u001b[39m \u001b[35mSparspak.SpkSparseSolver\u001b[39m \u001b[90m~/.julia/packages/Sparspak/kmobW/src/SparseMethod/\u001b[39m\u001b[90m\u001b[4mSpkSparseSolver.jl:18\u001b[24m\u001b[39m\n",
      " [2] \u001b[0m\u001b[1mSparspak.SpkSparseSolver.SparseSolver\u001b[22m\u001b[0m\u001b[1m(\u001b[22m\u001b[90mm\u001b[39m::\u001b[0mSparseArrays.SparseMatrixCSC\u001b[90m{Float64, Int64}\u001b[39m\u001b[0m\u001b[1m)\u001b[22m\n",
      "\u001b[90m   @\u001b[39m \u001b[35mSparspak.SparseCSCInterface\u001b[39m \u001b[90m~/.julia/packages/Sparspak/kmobW/src/SparseCSCInterface/\u001b[39m\u001b[90m\u001b[4mSparseCSCInterface.jl:185\u001b[24m\u001b[39m\n",
      " [3] \u001b[0m\u001b[1msparspaklu\u001b[22m\u001b[0m\u001b[1m(\u001b[22m\u001b[90mm\u001b[39m::\u001b[0mSparseArrays.SparseMatrixCSC\u001b[90m{Float64, Int64}\u001b[39m; \u001b[90mfactorize\u001b[39m::\u001b[0mBool\u001b[0m\u001b[1m)\u001b[22m\n",
      "\u001b[90m   @\u001b[39m \u001b[35mSparspak.SparseCSCInterface\u001b[39m \u001b[90m~/.julia/packages/Sparspak/kmobW/src/SparseCSCInterface/\u001b[39m\u001b[90m\u001b[4mSparseCSCInterface.jl:219\u001b[24m\u001b[39m\n",
      " [4] top-level scope\n",
      "\u001b[90m   @\u001b[39m \u001b[90m~/.julia/packages/LinearSolve/wrTJy/ext/\u001b[39m\u001b[90m\u001b[4mLinearSolveSparspakExt.jl:8\u001b[24m\u001b[39m\n",
      " [5] top-level scope\n",
      "\u001b[90m   @\u001b[39m \u001b[90m\u001b[4mstdin:6\u001b[24m\u001b[39m\n",
      "in expression starting at /Users/aryakakodkar/.julia/packages/LinearSolve/wrTJy/ext/LinearSolveSparspakExt.jl:1\n",
      "in expression starting at stdin:6\n",
      "┌ Error: Error during loading of extension LinearSolveSparspakExt of LinearSolve, use `Base.retry_load_extensions()` to retry.\n",
      "│   exception = \u001b[0m1-element ExceptionStack:\n",
      "Failed to precompile LinearSolveSparspakExt [17dd6666-2996-5629-91e3-540ca6e83fce] to \"/Users/aryakakodkar/.julia/compiled/v1.11/LinearSolveSparspakExt/jl_TumbIS\".\n",
      "Stacktrace:\n",
      "  [1] \u001b[0m\u001b[1mcompilecache\u001b[22m\u001b[0m\u001b[1m(\u001b[22m\u001b[90mpkg\u001b[39m::\u001b[0mBase.PkgId, \u001b[90mpath\u001b[39m::\u001b[0mString, \u001b[90minternal_stderr\u001b[39m::\u001b[0mIO, \u001b[90minternal_stdout\u001b[39m::\u001b[0mIO, \u001b[90mkeep_loaded_modules\u001b[39m::\u001b[0mBool; \u001b[90mflags\u001b[39m::\u001b[0mCmd, \u001b[90mcacheflags\u001b[39m::\u001b[0mBase.CacheFlags, \u001b[90mreasons\u001b[39m::\u001b[0mDict\u001b[90m{String, Int64}\u001b[39m, \u001b[90mloadable_exts\u001b[39m::\u001b[0mVector\u001b[90m{Base.PkgId}\u001b[39m\u001b[0m\u001b[1m)\u001b[22m\n",
      "\u001b[90m    @\u001b[39m \u001b[90mBase\u001b[39m \u001b[90m./\u001b[39m\u001b[90m\u001b[4mloading.jl:3174\u001b[24m\u001b[39m\n",
      "  [2] \u001b[0m\u001b[1m(::Base.var\"#1110#1111\"{Base.PkgId})\u001b[22m\u001b[0m\u001b[1m(\u001b[22m\u001b[0m\u001b[1m)\u001b[22m\n",
      "\u001b[90m    @\u001b[39m \u001b[90mBase\u001b[39m \u001b[90m./\u001b[39m\u001b[90m\u001b[4mloading.jl:2579\u001b[24m\u001b[39m\n",
      "  [3] \u001b[0m\u001b[1mmkpidlock\u001b[22m\u001b[0m\u001b[1m(\u001b[22m\u001b[90mf\u001b[39m::\u001b[0mBase.var\"#1110#1111\"\u001b[90m{Base.PkgId}\u001b[39m, \u001b[90mat\u001b[39m::\u001b[0mString, \u001b[90mpid\u001b[39m::\u001b[0mInt32; \u001b[90mkwopts\u001b[39m::\u001b[0m@Kwargs\u001b[90m{stale_age::Int64, wait::Bool}\u001b[39m\u001b[0m\u001b[1m)\u001b[22m\n",
      "\u001b[90m    @\u001b[39m \u001b[35mFileWatching.Pidfile\u001b[39m \u001b[90m/opt/homebrew/Cellar/julia/1.11.6/share/julia/stdlib/v1.11/FileWatching/src/\u001b[39m\u001b[90m\u001b[4mpidfile.jl:95\u001b[24m\u001b[39m\n",
      "  [4] \u001b[0m\u001b[1minclude\u001b[22m\u001b[0m\u001b[1m(\u001b[22m\u001b[90mx\u001b[39m::\u001b[0mString\u001b[0m\u001b[1m)\u001b[22m\n",
      "\u001b[90m    @\u001b[39m \u001b[36mMain.CTUtils\u001b[39m \u001b[90m~/Documents/TandemFlow/utils/\u001b[39m\u001b[90m\u001b[4mct_utils.jl:1\u001b[24m\u001b[39m\n",
      "  [5] top-level scope\n",
      "\u001b[90m    @\u001b[39m \u001b[90m~/Documents/TandemFlow/utils/\u001b[39m\u001b[90m\u001b[4mct_utils.jl:15\u001b[24m\u001b[39m\n",
      "  [6] \u001b[0m\u001b[1minclude\u001b[22m\u001b[0m\u001b[1m(\u001b[22m\u001b[90mfname\u001b[39m::\u001b[0mString\u001b[0m\u001b[1m)\u001b[22m\n",
      "\u001b[90m    @\u001b[39m \u001b[32mMain\u001b[39m \u001b[90m./\u001b[39m\u001b[90m\u001b[4msysimg.jl:38\u001b[24m\u001b[39m\n",
      "  [7] top-level scope\n",
      "\u001b[90m    @\u001b[39m \u001b[90m~/Documents/TandemFlow/utils/\u001b[39m\u001b[90m\u001b[4mjl_notebook_cell_df34fa98e69747e1a8f8a730347b8e2f_W0sZmlsZQ==.jl:1\u001b[24m\u001b[39m\n",
      "  [8] \u001b[0m\u001b[1meval\u001b[22m\n",
      "\u001b[90m    @\u001b[39m \u001b[90m./\u001b[39m\u001b[90m\u001b[4mboot.jl:430\u001b[24m\u001b[39m\u001b[90m [inlined]\u001b[39m\n",
      "  [9] \u001b[0m\u001b[1minclude_string\u001b[22m\u001b[0m\u001b[1m(\u001b[22m\u001b[90mmapexpr\u001b[39m::\u001b[0mtypeof(REPL.softscope), \u001b[90mmod\u001b[39m::\u001b[0mModule, \u001b[90mcode\u001b[39m::\u001b[0mString, \u001b[90mfilename\u001b[39m::\u001b[0mString\u001b[0m\u001b[1m)\u001b[22m\n",
      "\u001b[90m    @\u001b[39m \u001b[90mBase\u001b[39m \u001b[90m./\u001b[39m\u001b[90m\u001b[4mloading.jl:2734\u001b[24m\u001b[39m\n",
      " [10] \u001b[0m\u001b[1m#invokelatest#2\u001b[22m\n",
      "\u001b[90m    @\u001b[39m \u001b[90m./\u001b[39m\u001b[90m\u001b[4messentials.jl:1055\u001b[24m\u001b[39m\u001b[90m [inlined]\u001b[39m\n",
      " [11] \u001b[0m\u001b[1minvokelatest\u001b[22m\n",
      "\u001b[90m    @\u001b[39m \u001b[90m./\u001b[39m\u001b[90m\u001b[4messentials.jl:1052\u001b[24m\u001b[39m\u001b[90m [inlined]\u001b[39m\n",
      " [12] \u001b[0m\u001b[1m(::VSCodeServer.var\"#217#218\"{VSCodeServer.NotebookRunCellArguments, String})\u001b[22m\u001b[0m\u001b[1m(\u001b[22m\u001b[0m\u001b[1m)\u001b[22m\n",
      "\u001b[90m    @\u001b[39m \u001b[33mVSCodeServer\u001b[39m \u001b[90m~/.vscode/extensions/julialang.language-julia-1.149.2/scripts/packages/VSCodeServer/src/\u001b[39m\u001b[90m\u001b[4mserve_notebook.jl:24\u001b[24m\u001b[39m\n",
      " [13] \u001b[0m\u001b[1mwithpath\u001b[22m\u001b[0m\u001b[1m(\u001b[22m\u001b[90mf\u001b[39m::\u001b[0mVSCodeServer.var\"#217#218\"\u001b[90m{VSCodeServer.NotebookRunCellArguments, String}\u001b[39m, \u001b[90mpath\u001b[39m::\u001b[0mString\u001b[0m\u001b[1m)\u001b[22m\n",
      "\u001b[90m    @\u001b[39m \u001b[33mVSCodeServer\u001b[39m \u001b[90m~/.vscode/extensions/julialang.language-julia-1.149.2/scripts/packages/VSCodeServer/src/\u001b[39m\u001b[90m\u001b[4mrepl.jl:276\u001b[24m\u001b[39m\n",
      " [14] \u001b[0m\u001b[1mnotebook_runcell_request\u001b[22m\u001b[0m\u001b[1m(\u001b[22m\u001b[90mconn\u001b[39m::\u001b[0mVSCodeServer.JSONRPC.JSONRPCEndpoint\u001b[90m{Base.PipeEndpoint, Base.PipeEndpoint, VSCodeServer.JSON.Serializations.StandardSerialization}\u001b[39m, \u001b[90mparams\u001b[39m::\u001b[0mVSCodeServer.NotebookRunCellArguments, \u001b[90mtoken\u001b[39m::\u001b[0mVSCodeServer.CancellationTokens.CancellationToken\u001b[0m\u001b[1m)\u001b[22m\n",
      "\u001b[90m    @\u001b[39m \u001b[33mVSCodeServer\u001b[39m \u001b[90m~/.vscode/extensions/julialang.language-julia-1.149.2/scripts/packages/VSCodeServer/src/\u001b[39m\u001b[90m\u001b[4mserve_notebook.jl:13\u001b[24m\u001b[39m\n",
      " [15] \u001b[0m\u001b[1mdispatch_msg\u001b[22m\u001b[0m\u001b[1m(\u001b[22m\u001b[90mx\u001b[39m::\u001b[0mVSCodeServer.JSONRPC.JSONRPCEndpoint\u001b[90m{Base.PipeEndpoint, Base.PipeEndpoint, VSCodeServer.JSON.Serializations.StandardSerialization}\u001b[39m, \u001b[90mdispatcher\u001b[39m::\u001b[0mVSCodeServer.JSONRPC.MsgDispatcher, \u001b[90mmsg\u001b[39m::\u001b[0mVSCodeServer.JSONRPC.Request\u001b[0m\u001b[1m)\u001b[22m\n",
      "\u001b[90m    @\u001b[39m \u001b[33mVSCodeServer.JSONRPC\u001b[39m \u001b[90m~/.vscode/extensions/julialang.language-julia-1.149.2/scripts/packages/JSONRPC/src/\u001b[39m\u001b[90m\u001b[4mtyped.jl:68\u001b[24m\u001b[39m\n",
      " [16] \u001b[0m\u001b[1mserve_notebook\u001b[22m\u001b[0m\u001b[1m(\u001b[22m\u001b[90mpipename\u001b[39m::\u001b[0mString, \u001b[90mdebugger_pipename\u001b[39m::\u001b[0mString, \u001b[90moutputchannel_logger\u001b[39m::\u001b[0mBase.CoreLogging.SimpleLogger; \u001b[90merror_handler\u001b[39m::\u001b[0mvar\"#5#10\"\u001b[90m{String}\u001b[39m\u001b[0m\u001b[1m)\u001b[22m\n",
      "\u001b[90m    @\u001b[39m \u001b[33mVSCodeServer\u001b[39m \u001b[90m~/.vscode/extensions/julialang.language-julia-1.149.2/scripts/packages/VSCodeServer/src/\u001b[39m\u001b[90m\u001b[4mserve_notebook.jl:147\u001b[24m\u001b[39m\n",
      " [17] top-level scope\n",
      "\u001b[90m    @\u001b[39m \u001b[90m~/.vscode/extensions/julialang.language-julia-1.149.2/scripts/notebook/\u001b[39m\u001b[90m\u001b[4mnotebook.jl:35\u001b[24m\u001b[39m\n",
      "└ @ Base loading.jl:1550\n",
      "Union{}, got a value of type SparseArrays.SparseMatrixCSC{Float64, Int64}\n",
      "Stacktrace:\n",
      " [1] \u001b[0m\u001b[1mSparspak.SpkSparseSolver.SparseSolver\u001b[22m\u001b[0m\u001b[1m(\u001b[22m\u001b[90mp\u001b[39m::\u001b[0mSparseArrays.SparseMatrixCSC\u001b[90m{Float64, Int64}\u001b[39m, \u001b[90mslvr\u001b[39m::\u001b[0mSparspak.SpkSparseBase._SparseBase\u001b[90m{Int64, Float64}\u001b[39m, \u001b[90mn\u001b[39m::\u001b[0mInt64, \u001b[90mma\u001b[39m::\u001b[0mInt64, \u001b[90mna\u001b[39m::\u001b[0mInt64, \u001b[90mmc\u001b[39m::\u001b[0mInt64, \u001b[90mnc\u001b[39m::\u001b[0mInt64, \u001b[90m_inmatrixdone\u001b[39m::\u001b[0mBool, \u001b[90m_orderdone\u001b[39m::\u001b[0mBool, \u001b[90m_symbolicdone\u001b[39m::\u001b[0mBool, \u001b[90m_factordone\u001b[39m::\u001b[0mBool, \u001b[90m_trisolvedone\u001b[39m::\u001b[0mBool, \u001b[90m_refinedone\u001b[39m::\u001b[0mBool, \u001b[90m_condestdone\u001b[39m::\u001b[0mBool\u001b[0m\u001b[1m)\u001b[22m\n",
      "\u001b[90m   @\u001b[39m \u001b[35mSparspak.SpkSparseSolver\u001b[39m \u001b[90m~/.julia/packages/Sparspak/kmobW/src/SparseMethod/\u001b[39m\u001b[90m\u001b[4mSpkSparseSolver.jl:18\u001b[24m\u001b[39m\n",
      " [2] \u001b[0m\u001b[1mSparspak.SpkSparseSolver.SparseSolver\u001b[22m\u001b[0m\u001b[1m(\u001b[22m\u001b[90mm\u001b[39m::\u001b[0mSparseArrays.SparseMatrixCSC\u001b[90m{Float64, Int64}\u001b[39m\u001b[0m\u001b[1m)\u001b[22m\n",
      "\u001b[90m   @\u001b[39m \u001b[35mSparspak.SparseCSCInterface\u001b[39m \u001b[90m~/.julia/packages/Sparspak/kmobW/src/SparseCSCInterface/\u001b[39m\u001b[90m\u001b[4mSparseCSCInterface.jl:185\u001b[24m\u001b[39m\n",
      " [3] \u001b[0m\u001b[1msparspaklu\u001b[22m\u001b[0m\u001b[1m(\u001b[22m\u001b[90mm\u001b[39m::\u001b[0mSparseArrays.SparseMatrixCSC\u001b[90m{Float64, Int64}\u001b[39m; \u001b[90mfactorize\u001b[39m::\u001b[0mBool\u001b[0m\u001b[1m)\u001b[22m\n",
      "\u001b[90m   @\u001b[39m \u001b[35mSparspak.SparseCSCInterface\u001b[39m \u001b[90m~/.julia/packages/Sparspak/kmobW/src/SparseCSCInterface/\u001b[39m\u001b[90m\u001b[4mSparseCSCInterface.jl:219\u001b[24m\u001b[39m\n",
      " [4] top-level scope\n",
      "\u001b[90m   @\u001b[39m \u001b[90m~/.julia/packages/LinearSolve/wrTJy/ext/\u001b[39m\u001b[90m\u001b[4mLinearSolveSparspakExt.jl:8\u001b[24m\u001b[39m\n",
      " [5] top-level scope\n",
      "\u001b[90m   @\u001b[39m \u001b[90m\u001b[4mstdin:6\u001b[24m\u001b[39m\n",
      "in expression starting at /Users/aryakakodkar/.julia/packages/LinearSolve/wrTJy/ext/LinearSolveSparspakExt.jl:1\n",
      "in expression starting at stdin:6\n",
      "┌ Error: Error during loading of extension LinearSolveSparspakExt of LinearSolve, use `Base.retry_load_extensions()` to retry.\n",
      "│   exception = \u001b[0m1-element ExceptionStack:\n",
      "Failed to precompile LinearSolveSparspakExt [17dd6666-2996-5629-91e3-540ca6e83fce] to \"/Users/aryakakodkar/.julia/compiled/v1.11/LinearSolveSparspakExt/jl_TumbIS\".\n",
      "Stacktrace:\n",
      "  [1] \u001b[0m\u001b[1mcompilecache\u001b[22m\u001b[0m\u001b[1m(\u001b[22m\u001b[90mpkg\u001b[39m::\u001b[0mBase.PkgId, \u001b[90mpath\u001b[39m::\u001b[0mString, \u001b[90minternal_stderr\u001b[39m::\u001b[0mIO, \u001b[90minternal_stdout\u001b[39m::\u001b[0mIO, \u001b[90mkeep_loaded_modules\u001b[39m::\u001b[0mBool; \u001b[90mflags\u001b[39m::\u001b[0mCmd, \u001b[90mcacheflags\u001b[39m::\u001b[0mBase.CacheFlags, \u001b[90mreasons\u001b[39m::\u001b[0mDict\u001b[90m{String, Int64}\u001b[39m, \u001b[90mloadable_exts\u001b[39m::\u001b[0mVector\u001b[90m{Base.PkgId}\u001b[39m\u001b[0m\u001b[1m)\u001b[22m\n",
      "\u001b[90m    @\u001b[39m \u001b[90mBase\u001b[39m \u001b[90m./\u001b[39m\u001b[90m\u001b[4mloading.jl:3174\u001b[24m\u001b[39m\n",
      "  [2] \u001b[0m\u001b[1m(::Base.var\"#1110#1111\"{Base.PkgId})\u001b[22m\u001b[0m\u001b[1m(\u001b[22m\u001b[0m\u001b[1m)\u001b[22m\n",
      "\u001b[90m    @\u001b[39m \u001b[90mBase\u001b[39m \u001b[90m./\u001b[39m\u001b[90m\u001b[4mloading.jl:2579\u001b[24m\u001b[39m\n",
      "  [3] \u001b[0m\u001b[1mmkpidlock\u001b[22m\u001b[0m\u001b[1m(\u001b[22m\u001b[90mf\u001b[39m::\u001b[0mBase.var\"#1110#1111\"\u001b[90m{Base.PkgId}\u001b[39m, \u001b[90mat\u001b[39m::\u001b[0mString, \u001b[90mpid\u001b[39m::\u001b[0mInt32; \u001b[90mkwopts\u001b[39m::\u001b[0m@Kwargs\u001b[90m{stale_age::Int64, wait::Bool}\u001b[39m\u001b[0m\u001b[1m)\u001b[22m\n",
      "\u001b[90m    @\u001b[39m \u001b[35mFileWatching.Pidfile\u001b[39m \u001b[90m/opt/homebrew/Cellar/julia/1.11.6/share/julia/stdlib/v1.11/FileWatching/src/\u001b[39m\u001b[90m\u001b[4mpidfile.jl:95\u001b[24m\u001b[39m\n",
      "  [4] \u001b[0m\u001b[1minclude\u001b[22m\u001b[0m\u001b[1m(\u001b[22m\u001b[90mx\u001b[39m::\u001b[0mString\u001b[0m\u001b[1m)\u001b[22m\n",
      "\u001b[90m    @\u001b[39m \u001b[36mMain.CTUtils\u001b[39m \u001b[90m~/Documents/TandemFlow/utils/\u001b[39m\u001b[90m\u001b[4mct_utils.jl:1\u001b[24m\u001b[39m\n",
      "  [5] top-level scope\n",
      "\u001b[90m    @\u001b[39m \u001b[90m~/Documents/TandemFlow/utils/\u001b[39m\u001b[90m\u001b[4mct_utils.jl:15\u001b[24m\u001b[39m\n",
      "  [6] \u001b[0m\u001b[1minclude\u001b[22m\u001b[0m\u001b[1m(\u001b[22m\u001b[90mfname\u001b[39m::\u001b[0mString\u001b[0m\u001b[1m)\u001b[22m\n",
      "\u001b[90m    @\u001b[39m \u001b[32mMain\u001b[39m \u001b[90m./\u001b[39m\u001b[90m\u001b[4msysimg.jl:38\u001b[24m\u001b[39m\n",
      "  [7] top-level scope\n",
      "\u001b[90m    @\u001b[39m \u001b[90m~/Documents/TandemFlow/utils/\u001b[39m\u001b[90m\u001b[4mjl_notebook_cell_df34fa98e69747e1a8f8a730347b8e2f_W0sZmlsZQ==.jl:1\u001b[24m\u001b[39m\n",
      "  [8] \u001b[0m\u001b[1meval\u001b[22m\n",
      "\u001b[90m    @\u001b[39m \u001b[90m./\u001b[39m\u001b[90m\u001b[4mboot.jl:430\u001b[24m\u001b[39m\u001b[90m [inlined]\u001b[39m\n",
      "  [9] \u001b[0m\u001b[1minclude_string\u001b[22m\u001b[0m\u001b[1m(\u001b[22m\u001b[90mmapexpr\u001b[39m::\u001b[0mtypeof(REPL.softscope), \u001b[90mmod\u001b[39m::\u001b[0mModule, \u001b[90mcode\u001b[39m::\u001b[0mString, \u001b[90mfilename\u001b[39m::\u001b[0mString\u001b[0m\u001b[1m)\u001b[22m\n",
      "\u001b[90m    @\u001b[39m \u001b[90mBase\u001b[39m \u001b[90m./\u001b[39m\u001b[90m\u001b[4mloading.jl:2734\u001b[24m\u001b[39m\n",
      " [10] \u001b[0m\u001b[1m#invokelatest#2\u001b[22m\n",
      "\u001b[90m    @\u001b[39m \u001b[90m./\u001b[39m\u001b[90m\u001b[4messentials.jl:1055\u001b[24m\u001b[39m\u001b[90m [inlined]\u001b[39m\n",
      " [11] \u001b[0m\u001b[1minvokelatest\u001b[22m\n",
      "\u001b[90m    @\u001b[39m \u001b[90m./\u001b[39m\u001b[90m\u001b[4messentials.jl:1052\u001b[24m\u001b[39m\u001b[90m [inlined]\u001b[39m\n",
      " [12] \u001b[0m\u001b[1m(::VSCodeServer.var\"#217#218\"{VSCodeServer.NotebookRunCellArguments, String})\u001b[22m\u001b[0m\u001b[1m(\u001b[22m\u001b[0m\u001b[1m)\u001b[22m\n",
      "\u001b[90m    @\u001b[39m \u001b[33mVSCodeServer\u001b[39m \u001b[90m~/.vscode/extensions/julialang.language-julia-1.149.2/scripts/packages/VSCodeServer/src/\u001b[39m\u001b[90m\u001b[4mserve_notebook.jl:24\u001b[24m\u001b[39m\n",
      " [13] \u001b[0m\u001b[1mwithpath\u001b[22m\u001b[0m\u001b[1m(\u001b[22m\u001b[90mf\u001b[39m::\u001b[0mVSCodeServer.var\"#217#218\"\u001b[90m{VSCodeServer.NotebookRunCellArguments, String}\u001b[39m, \u001b[90mpath\u001b[39m::\u001b[0mString\u001b[0m\u001b[1m)\u001b[22m\n",
      "\u001b[90m    @\u001b[39m \u001b[33mVSCodeServer\u001b[39m \u001b[90m~/.vscode/extensions/julialang.language-julia-1.149.2/scripts/packages/VSCodeServer/src/\u001b[39m\u001b[90m\u001b[4mrepl.jl:276\u001b[24m\u001b[39m\n",
      " [14] \u001b[0m\u001b[1mnotebook_runcell_request\u001b[22m\u001b[0m\u001b[1m(\u001b[22m\u001b[90mconn\u001b[39m::\u001b[0mVSCodeServer.JSONRPC.JSONRPCEndpoint\u001b[90m{Base.PipeEndpoint, Base.PipeEndpoint, VSCodeServer.JSON.Serializations.StandardSerialization}\u001b[39m, \u001b[90mparams\u001b[39m::\u001b[0mVSCodeServer.NotebookRunCellArguments, \u001b[90mtoken\u001b[39m::\u001b[0mVSCodeServer.CancellationTokens.CancellationToken\u001b[0m\u001b[1m)\u001b[22m\n",
      "\u001b[90m    @\u001b[39m \u001b[33mVSCodeServer\u001b[39m \u001b[90m~/.vscode/extensions/julialang.language-julia-1.149.2/scripts/packages/VSCodeServer/src/\u001b[39m\u001b[90m\u001b[4mserve_notebook.jl:13\u001b[24m\u001b[39m\n",
      " [15] \u001b[0m\u001b[1mdispatch_msg\u001b[22m\u001b[0m\u001b[1m(\u001b[22m\u001b[90mx\u001b[39m::\u001b[0mVSCodeServer.JSONRPC.JSONRPCEndpoint\u001b[90m{Base.PipeEndpoint, Base.PipeEndpoint, VSCodeServer.JSON.Serializations.StandardSerialization}\u001b[39m, \u001b[90mdispatcher\u001b[39m::\u001b[0mVSCodeServer.JSONRPC.MsgDispatcher, \u001b[90mmsg\u001b[39m::\u001b[0mVSCodeServer.JSONRPC.Request\u001b[0m\u001b[1m)\u001b[22m\n",
      "\u001b[90m    @\u001b[39m \u001b[33mVSCodeServer.JSONRPC\u001b[39m \u001b[90m~/.vscode/extensions/julialang.language-julia-1.149.2/scripts/packages/JSONRPC/src/\u001b[39m\u001b[90m\u001b[4mtyped.jl:68\u001b[24m\u001b[39m\n",
      " [16] \u001b[0m\u001b[1mserve_notebook\u001b[22m\u001b[0m\u001b[1m(\u001b[22m\u001b[90mpipename\u001b[39m::\u001b[0mString, \u001b[90mdebugger_pipename\u001b[39m::\u001b[0mString, \u001b[90moutputchannel_logger\u001b[39m::\u001b[0mBase.CoreLogging.SimpleLogger; \u001b[90merror_handler\u001b[39m::\u001b[0mvar\"#5#10\"\u001b[90m{String}\u001b[39m\u001b[0m\u001b[1m)\u001b[22m\n",
      "\u001b[90m    @\u001b[39m \u001b[33mVSCodeServer\u001b[39m \u001b[90m~/.vscode/extensions/julialang.language-julia-1.149.2/scripts/packages/VSCodeServer/src/\u001b[39m\u001b[90m\u001b[4mserve_notebook.jl:147\u001b[24m\u001b[39m\n",
      " [17] top-level scope\n",
      "\u001b[90m    @\u001b[39m \u001b[90m~/.vscode/extensions/julialang.language-julia-1.149.2/scripts/notebook/\u001b[39m\u001b[90m\u001b[4mnotebook.jl:35\u001b[24m\u001b[39m\n",
      "└ @ Base loading.jl:1550\n"
     ]
    }
   ],
   "source": [
    "include(\"ct_utils.jl\")\n",
    "using ChargeTransport\n",
    "using .CTUtils\n",
    "using DataFrames\n",
    "using CSV \n",
    "using PyPlot"
   ]
  },
  {
   "cell_type": "code",
   "execution_count": null,
   "id": "27fc676a",
   "metadata": {},
   "outputs": [],
   "source": [
    "data_type = [\"dark-sc\", \"illuminated-sc\"]\n",
    "data_choice = 1\n",
    "\n",
    "generation_filename = \"../simulation_data/scaps/si-topcon-auto.gen\"\n",
    "\n",
    "df_ct = ct_to_df(\"../simulation_data/chargetransport/si-topcon-schottky-$(data_type[data_choice]).csv\")\n",
    "df_scaps = scaps_to_df(\"../simulation_data/scaps/si-topcon-$(data_type[data_choice]).eb\")\n",
    "df_gen = scaps_to_df_generation(generation_filename)\n",
    "println(\"Data loaded successfully.\")"
   ]
  },
  {
   "cell_type": "code",
   "execution_count": null,
   "id": "5ed197ad",
   "metadata": {},
   "outputs": [],
   "source": [
    "using PyPlot\n",
    "\n",
    "# Define a range of x values for smooth interpolation\n",
    "x_vals = range(minimum(df_gen[!, \"x (um)\"]), stop=maximum(df_gen[!, \"x (um)\"]), length=200)\n",
    "G_interp = [generation_from_scaps(generation_filename, x * (μm)) * 1e-6 for x in x_vals]\n",
    "\n",
    "figure(figsize=(8,5))\n",
    "plot(x_vals, G_interp, label=\"Interpolated Generation\", color=\"blue\")\n",
    "plot(df_gen[!, \"x (um)\"], df_gen[!, \"Geh (#/cm3.s)\"], linestyle=\"--\", label=\"Raw Data\", color=\"red\")\n",
    "\n",
    "yscale(\"log\")\n",
    "xlabel(\"x (um)\")\n",
    "ylabel(\"Generation Geh (#/cm³·s)\")\n",
    "title(\"Generation Profile: Interpolated vs. Raw Data\")\n",
    "legend()\n",
    "grid(true)\n",
    "display(gcf())"
   ]
  },
  {
   "cell_type": "code",
   "execution_count": null,
   "id": "ce252128",
   "metadata": {},
   "outputs": [],
   "source": [
    "G_interp[end - 1]"
   ]
  },
  {
   "cell_type": "code",
   "execution_count": null,
   "id": "c46b64bf",
   "metadata": {},
   "outputs": [],
   "source": [
    "generation_from_scaps(generation_filename, 99.557 * (μm))"
   ]
  },
  {
   "cell_type": "markdown",
   "id": "c3832ce9",
   "metadata": {},
   "source": [
    "## COMPARISONS"
   ]
  },
  {
   "cell_type": "code",
   "execution_count": null,
   "id": "4d479895",
   "metadata": {},
   "outputs": [],
   "source": [
    "compare_densities(df_ct, df_scaps)\n",
    "axvline(0.5, color=\"black\", linestyle=\"--\", label=\"x = 4\")\n",
    "display(gcf())"
   ]
  },
  {
   "cell_type": "code",
   "execution_count": null,
   "id": "9c6d7571",
   "metadata": {},
   "outputs": [],
   "source": [
    "edge_coord = 0.5\n",
    "cz_edge_np_scaps = find_info_scaps(df_scaps, edge_coord).p * find_info_scaps(df_scaps, edge_coord).n\n",
    "cz_edge_np_ct = find_info_ct(df_ct, edge_coord).p * find_info_ct(df_ct, edge_coord).n"
   ]
  },
  {
   "cell_type": "code",
   "execution_count": null,
   "id": "039d6cf7",
   "metadata": {},
   "outputs": [],
   "source": [
    "cz_edge_np_scaps"
   ]
  },
  {
   "cell_type": "code",
   "execution_count": null,
   "id": "12284f8d",
   "metadata": {},
   "outputs": [],
   "source": [
    "cz_edge_np_ct"
   ]
  },
  {
   "cell_type": "code",
   "execution_count": null,
   "id": "797a8e45",
   "metadata": {},
   "outputs": [],
   "source": [
    "compare_bands(df_ct, df_scaps, xrange=(99.9, 100))\n",
    "display(gcf())"
   ]
  },
  {
   "cell_type": "code",
   "execution_count": null,
   "id": "03202df4",
   "metadata": {},
   "outputs": [],
   "source": [
    "using PyPlot\n",
    "\n",
    "figure(figsize=(10,6))\n",
    "plot(df_scaps[!, \"x(um)\"], df_scaps[!, \"Ec(eV)\"], color=\"blue\")\n",
    "plot(df_scaps[!, \"x(um)\"], df_scaps[!, \"Ev(eV)\"], color=\"red\")\n",
    "plot(df_scaps[!, \"x(um)\"], df_scaps[!, \"Fn(eV)\"], color=\"green\", linestyle=\":\")\n",
    "plot(df_scaps[!, \"x(um)\"], df_scaps[!, \"Fp(eV)\"], color=\"orange\", linestyle=\":\")\n",
    "xlabel(\"x (um)\")\n",
    "ylabel(\"Energy (eV)\")\n",
    "title(\"Band Edges and Quasi-Fermi Levels vs x\")\n",
    "# legend()\n",
    "grid(true)\n",
    "display(gcf())"
   ]
  },
  {
   "cell_type": "code",
   "execution_count": null,
   "id": "2f73c4b2",
   "metadata": {},
   "outputs": [],
   "source": [
    "decay(x) = 6.82e27 * exp(-8.408e4 * x)"
   ]
  },
  {
   "cell_type": "code",
   "execution_count": null,
   "id": "d2742be3",
   "metadata": {},
   "outputs": [],
   "source": [
    "distance = 42.2 * (μm)\n",
    "decay(distance)"
   ]
  },
  {
   "cell_type": "code",
   "execution_count": null,
   "id": "17c274a7",
   "metadata": {},
   "outputs": [],
   "source": [
    "using DataFrames\n",
    "\n",
    "filename = \"../simulation_data/scaps/si-topcon-auto.gen\"\n",
    "lines = readlines(filename)\n",
    "# Find the line containing 'GEN'\n",
    "gen_idx = findfirst(x -> occursin(\"GEN\", x), lines)\n",
    "if isnothing(gen_idx) || gen_idx == length(lines)\n",
    "    error(\"No GEN line or header found in file.\")\n",
    "end\n",
    "# The header is the line after 'GEN'\n",
    "header_idx = gen_idx + 1\n",
    "header = strip.(split(strip(lines[header_idx]), '\\t'))\n",
    "# Replace Greek mu (μ) with 'u' in header names for easier access\n",
    "header = replace.(header, 'μ' => \"u\")\n",
    "# Data starts after the header\n",
    "data_start = header_idx + 1\n",
    "data_lines = filter(x -> !isempty(strip(x)), lines[data_start:end])\n",
    "# Split each data line into fields using tab delimiter\n",
    "data = [split(strip(line), '\\t') for line in data_lines]\n",
    "# Convert to numbers if possible\n",
    "data = [map(x -> tryparse(Float64, x) === nothing ? x : parse(Float64, x), row) for row in data]\n",
    "df_gen = DataFrame([getindex.(data, i) for i in 1:length(header)], Symbol.(header))"
   ]
  },
  {
   "cell_type": "code",
   "execution_count": null,
   "id": "4e9094a3",
   "metadata": {},
   "outputs": [],
   "source": []
  },
  {
   "cell_type": "code",
   "execution_count": null,
   "id": "c49ec6b9",
   "metadata": {},
   "outputs": [],
   "source": [
    "function predict_generation(df::DataFrame, xq::Float64)\n",
    "    x = df[!, \"x (um)\"]\n",
    "    Geh = df[!, \"Geh (#/cm3.s)\"]\n",
    "\n",
    "    # Find the interval containing xq\n",
    "    if xq <= x[1]\n",
    "        return Geh[1]\n",
    "    elseif xq >= x[end]\n",
    "        return Geh[end]\n",
    "    else\n",
    "        i = findfirst(i -> x[i] <= xq < x[i+1], 1:length(x)-1)\n",
    "        println(\"Interval found: \", i)\n",
    "        if isnothing(i)\n",
    "            error(\"xq is out of bounds or data is not sorted.\")\n",
    "        end\n",
    "        # Exponential interpolation: Geh(x) = Geh1 * exp(log(Geh2/Geh1) * (xq-x1)/(x2-x1))\n",
    "        x1, x2 = x[i], x[i+1]\n",
    "        G1, G2 = Geh[i], Geh[i+1]\n",
    "        return G1 * exp(log(G2/G1) * (xq - x1) / (x2 - x1))\n",
    "    end\n",
    "end\n",
    "\n",
    "# Example usage:\n",
    "G_pred = predict_generation(df_gen, 0.5)"
   ]
  },
  {
   "cell_type": "code",
   "execution_count": 13,
   "id": "b8f2c571",
   "metadata": {},
   "outputs": [
    {
     "data": {
      "image/png": "[encoded data removed]",
      "text/plain": [
       "Figure(PyObject <Figure size 1000x600 with 1 Axes>)"
      ]
     },
     "metadata": {},
     "output_type": "display_data"
    }
   ],
   "source": [
    "df_ct_iv = CSV.read(\"../simulation_data/chargetransport/si-topcon-schottky-iv.csv\", DataFrame)\n",
    "df_scaps_iv = scaps_to_df_iv(\"../simulation_data/scaps/si-topcon.iv\")\n",
    "\n",
    "# test if it's just a horizontal translation\n",
    "# df_ct_iv[!, \"V\"] = df_ct_iv[!, \"V\"] .- 0.113\n",
    "df_ct_iv[!, \"J\"] = df_ct_iv[!, \"J\"] * -0.1\n",
    "\n",
    "compare_iv(df_ct_iv, df_scaps_iv)\n",
    "ylim(-100, 1000)\n",
    "display(gcf())"
   ]
  }
 ],
 "metadata": {
  "kernelspec": {
   "display_name": "Julia 1.11.6",
   "language": "julia",
   "name": "julia-1.11"
  },
  "language_info": {
   "file_extension": ".jl",
   "mimetype": "application/julia",
   "name": "julia",
   "version": "1.11.6"
  }
 },
 "nbformat": 4,
 "nbformat_minor": 5
}
